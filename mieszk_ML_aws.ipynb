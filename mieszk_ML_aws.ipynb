{
 "cells": [
  {
   "cell_type": "markdown",
   "metadata": {},
   "source": [
    "# Stworzenie SparkSession"
   ]
  },
  {
   "cell_type": "code",
   "execution_count": 1,
   "metadata": {},
   "outputs": [
    {
     "name": "stdout",
     "output_type": "stream",
     "text": [
      "Starting Spark application\n"
     ]
    },
    {
     "data": {
      "text/html": [
       "<table>\n",
       "<tr><th>ID</th><th>YARN Application ID</th><th>Kind</th><th>State</th><th>Spark UI</th><th>Driver log</th><th>Current session?</th></tr><tr><td>3</td><td>application_1622890252275_0004</td><td>pyspark</td><td>idle</td><td><a target=\"_blank\" href=\"http://ip-172-31-5-10.ec2.internal:20888/proxy/application_1622890252275_0004/\">Link</a></td><td><a target=\"_blank\" href=\"http://ip-172-31-8-161.ec2.internal:8042/node/containerlogs/container_1622890252275_0004_01_000001/livy\">Link</a></td><td>✔</td></tr></table>"
      ],
      "text/plain": [
       "<IPython.core.display.HTML object>"
      ]
     },
     "metadata": {},
     "output_type": "display_data"
    },
    {
     "data": {
      "application/vnd.jupyter.widget-view+json": {
       "model_id": "",
       "version_major": 2,
       "version_minor": 0
      },
      "text/plain": [
       "FloatProgress(value=0.0, bar_style='info', description='Progress:', layout=Layout(height='25px', width='50%'),…"
      ]
     },
     "metadata": {},
     "output_type": "display_data"
    },
    {
     "name": "stdout",
     "output_type": "stream",
     "text": [
      "SparkSession available as 'spark'.\n"
     ]
    },
    {
     "data": {
      "application/vnd.jupyter.widget-view+json": {
       "model_id": "",
       "version_major": 2,
       "version_minor": 0
      },
      "text/plain": [
       "FloatProgress(value=0.0, bar_style='info', description='Progress:', layout=Layout(height='25px', width='50%'),…"
      ]
     },
     "metadata": {},
     "output_type": "display_data"
    }
   ],
   "source": [
    "from pyspark.sql import SparkSession\n",
    "from pyspark.sql import Row\n",
    "from pyspark.sql import functions as f\n",
    "from pyspark.sql import Window\n",
    "\n",
    "spark = SparkSession.builder \\\n",
    "    .appName('Mieszkania_ML') \\\n",
    "    .master('local[*]') \\\n",
    "    .getOrCreate()"
   ]
  },
  {
   "cell_type": "code",
   "execution_count": 2,
   "metadata": {},
   "outputs": [
    {
     "data": {
      "application/vnd.jupyter.widget-view+json": {
       "model_id": "",
       "version_major": 2,
       "version_minor": 0
      },
      "text/plain": [
       "FloatProgress(value=0.0, bar_style='info', description='Progress:', layout=Layout(height='25px', width='50%'),…"
      ]
     },
     "metadata": {},
     "output_type": "display_data"
    }
   ],
   "source": [
    "from pyspark.sql.types import StringType, IntegerType, FloatType, DoubleType\n",
    "from pyspark.sql.window import Window\n",
    "from pyspark.ml import Pipeline"
   ]
  },
  {
   "cell_type": "code",
   "execution_count": 3,
   "metadata": {},
   "outputs": [
    {
     "data": {
      "application/vnd.jupyter.widget-view+json": {
       "model_id": "",
       "version_major": 2,
       "version_minor": 0
      },
      "text/plain": [
       "FloatProgress(value=0.0, bar_style='info', description='Progress:', layout=Layout(height='25px', width='50%'),…"
      ]
     },
     "metadata": {},
     "output_type": "display_data"
    }
   ],
   "source": [
    "from pyspark.ml.tuning import CrossValidator, ParamGridBuilder\n",
    "from pyspark.ml.evaluation import RegressionEvaluator"
   ]
  },
  {
   "cell_type": "markdown",
   "metadata": {},
   "source": [
    "# Zaczytanie danych"
   ]
  },
  {
   "cell_type": "code",
   "execution_count": 4,
   "metadata": {},
   "outputs": [
    {
     "data": {
      "application/vnd.jupyter.widget-view+json": {
       "model_id": "",
       "version_major": 2,
       "version_minor": 0
      },
      "text/plain": [
       "FloatProgress(value=0.0, bar_style='info', description='Progress:', layout=Layout(height='25px', width='50%'),…"
      ]
     },
     "metadata": {},
     "output_type": "display_data"
    }
   ],
   "source": [
    "df = spark.read.json(\"s3://mieszkania2-pl/db/*.json\")"
   ]
  },
  {
   "cell_type": "code",
   "execution_count": 5,
   "metadata": {},
   "outputs": [
    {
     "data": {
      "application/vnd.jupyter.widget-view+json": {
       "model_id": "",
       "version_major": 2,
       "version_minor": 0
      },
      "text/plain": [
       "FloatProgress(value=0.0, bar_style='info', description='Progress:', layout=Layout(height='25px', width='50%'),…"
      ]
     },
     "metadata": {},
     "output_type": "display_data"
    }
   ],
   "source": [
    "df = df.withColumn(\"Wojewodztwo\", \\\n",
    "                   f.split(f.element_at(f.split(f.element_at(f.split(f.input_file_name(), \"/\"), -1), \"_\"), -1), \"\\.\")[0])"
   ]
  },
  {
   "cell_type": "code",
   "execution_count": 6,
   "metadata": {},
   "outputs": [
    {
     "data": {
      "application/vnd.jupyter.widget-view+json": {
       "model_id": "",
       "version_major": 2,
       "version_minor": 0
      },
      "text/plain": [
       "FloatProgress(value=0.0, bar_style='info', description='Progress:', layout=Layout(height='25px', width='50%'),…"
      ]
     },
     "metadata": {},
     "output_type": "display_data"
    }
   ],
   "source": [
    "df = df.withColumn(\"Miejscowosc\", f.initcap(f.split(\"Lokalizacja\", \", \")[0]))"
   ]
  },
  {
   "cell_type": "code",
   "execution_count": 7,
   "metadata": {},
   "outputs": [
    {
     "data": {
      "application/vnd.jupyter.widget-view+json": {
       "model_id": "",
       "version_major": 2,
       "version_minor": 0
      },
      "text/plain": [
       "FloatProgress(value=0.0, bar_style='info', description='Progress:', layout=Layout(height='25px', width='50%'),…"
      ]
     },
     "metadata": {},
     "output_type": "display_data"
    }
   ],
   "source": [
    "df = df.distinct()"
   ]
  },
  {
   "cell_type": "markdown",
   "metadata": {},
   "source": [
    "##### Zmiana nazw kolumn"
   ]
  },
  {
   "cell_type": "code",
   "execution_count": 8,
   "metadata": {},
   "outputs": [
    {
     "data": {
      "application/vnd.jupyter.widget-view+json": {
       "model_id": "",
       "version_major": 2,
       "version_minor": 0
      },
      "text/plain": [
       "FloatProgress(value=0.0, bar_style='info', description='Progress:', layout=Layout(height='25px', width='50%'),…"
      ]
     },
     "metadata": {},
     "output_type": "display_data"
    }
   ],
   "source": [
    "df = df.withColumnRenamed('Liczba pokoi ', 'Liczba pokoi')\\\n",
    ".withColumnRenamed('Liczba pi\\u0119ter w budynku ', 'Liczba pieter w budynku')\\\n",
    ".withColumnRenamed('Materia\\u0142 ', 'Material')\\\n",
    ".withColumnRenamed('Pi\\u0119tro ', 'Pietro')\\\n",
    ".withColumnRenamed('Rok budowy ', 'Rok budowy')\\\n",
    ".withColumnRenamed('Szeroko\\u015b\\u0107 geograficzna', 'Szerokosc geograficzna')\\\n",
    ".withColumnRenamed('D\\u0142ugo\\u015b\\u0107 geograficzna', 'Dlugosc geograficzna')\\\n",
    ".withColumnRenamed('Rok budowy ', 'Rok budowy')\\\n",
    ".withColumnRenamed('Powierzchnia ca\\u0142kowita', 'Powierzchnia calkowita')"
   ]
  },
  {
   "cell_type": "markdown",
   "metadata": {},
   "source": [
    "##### Wybór kolumn"
   ]
  },
  {
   "cell_type": "code",
   "execution_count": 9,
   "metadata": {},
   "outputs": [
    {
     "data": {
      "application/vnd.jupyter.widget-view+json": {
       "model_id": "",
       "version_major": 2,
       "version_minor": 0
      },
      "text/plain": [
       "FloatProgress(value=0.0, bar_style='info', description='Progress:', layout=Layout(height='25px', width='50%'),…"
      ]
     },
     "metadata": {},
     "output_type": "display_data"
    }
   ],
   "source": [
    "df = df.select(\"Cena\", \"Cena za m2\", \"Szerokosc geograficzna\", \"Dlugosc geograficzna\",\\\n",
    "               \"Kod pocztowy\", \"Miejscowosc\", \"Wojewodztwo\",\\\n",
    "               \"Powierzchnia calkowita\", \"Liczba pokoi\", \"Pietro\", \"Liczba pieter w budynku\",\\\n",
    "               \"Rok budowy\", \"Material\", \"Typ budynku\")"
   ]
  },
  {
   "cell_type": "code",
   "execution_count": 10,
   "metadata": {},
   "outputs": [
    {
     "data": {
      "application/vnd.jupyter.widget-view+json": {
       "model_id": "",
       "version_major": 2,
       "version_minor": 0
      },
      "text/plain": [
       "FloatProgress(value=0.0, bar_style='info', description='Progress:', layout=Layout(height='25px', width='50%'),…"
      ]
     },
     "metadata": {},
     "output_type": "display_data"
    },
    {
     "name": "stdout",
     "output_type": "stream",
     "text": [
      "root\n",
      " |-- Cena: string (nullable = true)\n",
      " |-- Cena za m2: string (nullable = true)\n",
      " |-- Szerokosc geograficzna: double (nullable = true)\n",
      " |-- Dlugosc geograficzna: double (nullable = true)\n",
      " |-- Kod pocztowy: string (nullable = true)\n",
      " |-- Miejscowosc: string (nullable = true)\n",
      " |-- Wojewodztwo: string (nullable = true)\n",
      " |-- Powierzchnia calkowita: string (nullable = true)\n",
      " |-- Liczba pokoi: string (nullable = true)\n",
      " |-- Pietro: string (nullable = true)\n",
      " |-- Liczba pieter w budynku: string (nullable = true)\n",
      " |-- Rok budowy: string (nullable = true)\n",
      " |-- Material: string (nullable = true)\n",
      " |-- Typ budynku: string (nullable = true)"
     ]
    }
   ],
   "source": [
    "df.printSchema()"
   ]
  },
  {
   "cell_type": "markdown",
   "metadata": {},
   "source": [
    "# Preprocessing"
   ]
  },
  {
   "cell_type": "markdown",
   "metadata": {},
   "source": [
    "##### Potrzebne funkcje"
   ]
  },
  {
   "cell_type": "code",
   "execution_count": 11,
   "metadata": {},
   "outputs": [
    {
     "data": {
      "application/vnd.jupyter.widget-view+json": {
       "model_id": "",
       "version_major": 2,
       "version_minor": 0
      },
      "text/plain": [
       "FloatProgress(value=0.0, bar_style='info', description='Progress:', layout=Layout(height='25px', width='50%'),…"
      ]
     },
     "metadata": {},
     "output_type": "display_data"
    }
   ],
   "source": [
    "def find_between(s, first, last):\n",
    "    try:\n",
    "        start = s.index(first) + len(first)\n",
    "        end = s.index(last, start)\n",
    "        return s[start:end]\n",
    "    except ValueError:\n",
    "        return \"\"\n",
    "\n",
    "def num_filter(a_string):\n",
    "    try:\n",
    "        if a_string.find(\"EUR\") == -1:\n",
    "            if a_string.find(\",\") == -1:\n",
    "                return \"\".join(filter(str.isdigit, a_string))\n",
    "            else:\n",
    "                s1 = find_between(a_string, \"\", \",\")\n",
    "                s2 = find_between(a_string, \",\", \" \")\n",
    "                return \"\".join(filter(str.isdigit, s1)) + \".\" + s2\n",
    "        else:\n",
    "            a_string = a_string[a_string.find(\"EUR\"):]\n",
    "            if a_string.find(\",\") == -1:\n",
    "                return \"\".join(filter(str.isdigit, a_string))\n",
    "            else:\n",
    "                s1 = find_between(a_string, \"\", \",\")\n",
    "                s2 = find_between(a_string, \",\", \" \")\n",
    "                return \"\".join(filter(str.isdigit, s1)) + \".\" + s2\n",
    "    except:\n",
    "        pass\n",
    "    \n",
    "udf_num_filter = f.udf(num_filter, StringType())"
   ]
  },
  {
   "cell_type": "markdown",
   "metadata": {},
   "source": [
    "##### Usuwanie spacji, przecinków itp. z wartości numerycznych"
   ]
  },
  {
   "cell_type": "code",
   "execution_count": 12,
   "metadata": {},
   "outputs": [
    {
     "data": {
      "application/vnd.jupyter.widget-view+json": {
       "model_id": "",
       "version_major": 2,
       "version_minor": 0
      },
      "text/plain": [
       "FloatProgress(value=0.0, bar_style='info', description='Progress:', layout=Layout(height='25px', width='50%'),…"
      ]
     },
     "metadata": {},
     "output_type": "display_data"
    }
   ],
   "source": [
    "df = df.withColumn('Cena', udf_num_filter(f.col(\"Cena\")))\\\n",
    ".withColumn('Cena za m2', f.regexp_replace('Cena za m2', ' zł/m2', ''))\\\n",
    ".withColumn('Cena za m2', f.regexp_replace('Cena za m2', '\\u00a0', ''))\\\n",
    ".withColumn('Cena za m2', f.regexp_replace('Cena za m2', ',', '.'))\\\n",
    ".withColumn('Powierzchnia calkowita', f.regexp_replace('Powierzchnia calkowita', ' m2', ''))\\\n",
    ".withColumn('Powierzchnia calkowita', f.regexp_replace('Powierzchnia calkowita', ',', '.'))"
   ]
  },
  {
   "cell_type": "markdown",
   "metadata": {},
   "source": [
    "##### Konwercja typów danych numerycznych (string -> float)"
   ]
  },
  {
   "cell_type": "markdown",
   "metadata": {},
   "source": [
    "Najpierw zmiana \"Parter\" na wartość 0, aby przekonwertować do float"
   ]
  },
  {
   "cell_type": "code",
   "execution_count": 13,
   "metadata": {},
   "outputs": [
    {
     "data": {
      "application/vnd.jupyter.widget-view+json": {
       "model_id": "",
       "version_major": 2,
       "version_minor": 0
      },
      "text/plain": [
       "FloatProgress(value=0.0, bar_style='info', description='Progress:', layout=Layout(height='25px', width='50%'),…"
      ]
     },
     "metadata": {},
     "output_type": "display_data"
    }
   ],
   "source": [
    "df = df.withColumn(\"Pietro\", f.when(df[\"Pietro\"] == \"Parter\", 0).otherwise(df[\"Pietro\"]))"
   ]
  },
  {
   "cell_type": "markdown",
   "metadata": {},
   "source": [
    "Konwersja"
   ]
  },
  {
   "cell_type": "code",
   "execution_count": 14,
   "metadata": {},
   "outputs": [
    {
     "data": {
      "application/vnd.jupyter.widget-view+json": {
       "model_id": "",
       "version_major": 2,
       "version_minor": 0
      },
      "text/plain": [
       "FloatProgress(value=0.0, bar_style='info', description='Progress:', layout=Layout(height='25px', width='50%'),…"
      ]
     },
     "metadata": {},
     "output_type": "display_data"
    }
   ],
   "source": [
    "df = df.withColumn('Cena', df['Cena'].cast(FloatType()))\\\n",
    ".withColumn('Cena za m2', df['Cena za m2'].cast(FloatType()))\\\n",
    ".withColumn('Liczba pokoi', df['Liczba pokoi'].cast(FloatType()))\\\n",
    ".withColumn('Liczba pieter w budynku', df['Liczba pieter w budynku'].cast(FloatType()))\\\n",
    ".withColumn('Pietro', df['Pietro'].cast(FloatType()))\\\n",
    ".withColumn('Powierzchnia calkowita', df['Powierzchnia calkowita'].cast(FloatType()))\\\n",
    ".withColumn('Rok budowy', df['Rok budowy'].cast(FloatType()))"
   ]
  },
  {
   "cell_type": "markdown",
   "metadata": {},
   "source": [
    "# Czyszczenie danych"
   ]
  },
  {
   "cell_type": "markdown",
   "metadata": {},
   "source": [
    "##### Funkcje czyszczące outliery ręcznie"
   ]
  },
  {
   "cell_type": "code",
   "execution_count": 15,
   "metadata": {},
   "outputs": [
    {
     "data": {
      "application/vnd.jupyter.widget-view+json": {
       "model_id": "",
       "version_major": 2,
       "version_minor": 0
      },
      "text/plain": [
       "FloatProgress(value=0.0, bar_style='info', description='Progress:', layout=Layout(height='25px', width='50%'),…"
      ]
     },
     "metadata": {},
     "output_type": "display_data"
    }
   ],
   "source": [
    "def clean_cena(df, low=10000, high=20000000, dropna=False):\n",
    "    if dropna == True:\n",
    "        return df.filter((df[\"Cena\"] >= low) & (df[\"Cena\"] <= high))\n",
    "    elif dropna == False:\n",
    "        return df.filter(((df[\"Cena\"] >= low) & (df[\"Cena\"] <= high)) | df[\"Cena\"].isNull())"
   ]
  },
  {
   "cell_type": "code",
   "execution_count": 16,
   "metadata": {},
   "outputs": [
    {
     "data": {
      "application/vnd.jupyter.widget-view+json": {
       "model_id": "",
       "version_major": 2,
       "version_minor": 0
      },
      "text/plain": [
       "FloatProgress(value=0.0, bar_style='info', description='Progress:', layout=Layout(height='25px', width='50%'),…"
      ]
     },
     "metadata": {},
     "output_type": "display_data"
    }
   ],
   "source": [
    "def clean_cena_za_m2(df, low=1000, high=50000, count_price_per_m2=True, dropna=False):\n",
    "    if count_price_per_m2 == True:\n",
    "        df = df.withColumn(\"Cena za m2\", df[\"Cena\"]/df[\"Powierzchnia calkowita\"])\n",
    "    if dropna == True:\n",
    "        return df.filter((df[\"Cena za m2\"] >= low) & (df[\"Cena za m2\"] <= high))\n",
    "    elif dropna == False:\n",
    "        return df.filter(((df[\"Cena za m2\"] >= low) & (df[\"Cena za m2\"] <= high)) | df[\"Cena za m2\"].isNull())"
   ]
  },
  {
   "cell_type": "code",
   "execution_count": 17,
   "metadata": {},
   "outputs": [
    {
     "data": {
      "application/vnd.jupyter.widget-view+json": {
       "model_id": "",
       "version_major": 2,
       "version_minor": 0
      },
      "text/plain": [
       "FloatProgress(value=0.0, bar_style='info', description='Progress:', layout=Layout(height='25px', width='50%'),…"
      ]
     },
     "metadata": {},
     "output_type": "display_data"
    }
   ],
   "source": [
    "def clean_lat_lon(df, lat_min=49, lat_max=(54 + 50/60), lon_min=(14 + 7/60), lon_max=(24 + 9/60), dropna=False):\n",
    "    if dropna == True:\n",
    "        return df.filter((df[\"Szerokosc geograficzna\"] >= lat_min) & \\\n",
    "                         (df[\"Szerokosc geograficzna\"] <= lat_max) & \\\n",
    "                         (df[\"Dlugosc geograficzna\"] >= lon_min) & \\\n",
    "                         (df[\"Dlugosc geograficzna\"] <= lon_max))\n",
    "    elif dropna == False:\n",
    "        return df.filter(((df[\"Szerokosc geograficzna\"] >= lat_min) & \\\n",
    "                         (df[\"Szerokosc geograficzna\"] <= lat_max) & \\\n",
    "                         (df[\"Dlugosc geograficzna\"] >= lon_min) & \\\n",
    "                         (df[\"Dlugosc geograficzna\"] <= lon_max)) | \\\n",
    "                         df[\"Szerokosc geograficzna\"].isNull() | \\\n",
    "                         df[\"Dlugosc geograficzna\"].isNull())"
   ]
  },
  {
   "cell_type": "code",
   "execution_count": 18,
   "metadata": {},
   "outputs": [
    {
     "data": {
      "application/vnd.jupyter.widget-view+json": {
       "model_id": "",
       "version_major": 2,
       "version_minor": 0
      },
      "text/plain": [
       "FloatProgress(value=0.0, bar_style='info', description='Progress:', layout=Layout(height='25px', width='50%'),…"
      ]
     },
     "metadata": {},
     "output_type": "display_data"
    }
   ],
   "source": [
    "def clean_pietra(df, min=0, max=1000, drop_pietro_greater_than_max=True, dropna=False):\n",
    "    if dropna == True:\n",
    "        if drop_pietro_greater_than_max == True:\n",
    "            return df.filter((df[\"Pietro\"] <= df[\"Liczba pieter w budynku\"]) & \\\n",
    "                             (df[\"Pietro\"] >= min) & \\\n",
    "                             (df[\"Pietro\"] <= max))\n",
    "        elif drop_pietro_greater_than_max == False:\n",
    "            return df.filter((df[\"Pietro\"] >= min) & \\\n",
    "                             (df[\"Pietro\"] <= max))\n",
    "    elif dropna == False:\n",
    "        if drop_pietro_greater_than_max == True:\n",
    "            return df.filter(((df[\"Pietro\"] <= df[\"Liczba pieter w budynku\"]) & \\\n",
    "                             (df[\"Pietro\"] >= min) & \\\n",
    "                             (df[\"Pietro\"] <= max)) | \\\n",
    "                             df[\"Pietro\"].isNull() | \\\n",
    "                             df[\"Liczba pieter w budynku\"].isNull())\n",
    "        elif drop_pietro_greater_than_max == False:\n",
    "            return df.filter(((df[\"Pietro\"] >= min) & \\\n",
    "                             (df[\"Pietro\"] <= max)) | \\\n",
    "                             df[\"Pietro\"].isNull() | \\\n",
    "                             df[\"Liczba pieter w budynku\"].isNull())"
   ]
  },
  {
   "cell_type": "code",
   "execution_count": 19,
   "metadata": {},
   "outputs": [
    {
     "data": {
      "application/vnd.jupyter.widget-view+json": {
       "model_id": "",
       "version_major": 2,
       "version_minor": 0
      },
      "text/plain": [
       "FloatProgress(value=0.0, bar_style='info', description='Progress:', layout=Layout(height='25px', width='50%'),…"
      ]
     },
     "metadata": {},
     "output_type": "display_data"
    }
   ],
   "source": [
    "def clean_pokoje(df, min=1, max=10, dropna=False):\n",
    "    if dropna == True:\n",
    "        return df.filter((df[\"Liczba pokoi\"] >= min) & \\\n",
    "                         (df[\"Liczba pokoi\"] <= max))\n",
    "    elif dropna == False:\n",
    "        return df.filter(((df[\"Liczba pokoi\"] >= min) & \\\n",
    "                         (df[\"Liczba pokoi\"] <= max)) | \\\n",
    "                         df[\"Liczba pokoi\"].isNull())"
   ]
  },
  {
   "cell_type": "code",
   "execution_count": 20,
   "metadata": {},
   "outputs": [
    {
     "data": {
      "application/vnd.jupyter.widget-view+json": {
       "model_id": "",
       "version_major": 2,
       "version_minor": 0
      },
      "text/plain": [
       "FloatProgress(value=0.0, bar_style='info', description='Progress:', layout=Layout(height='25px', width='50%'),…"
      ]
     },
     "metadata": {},
     "output_type": "display_data"
    }
   ],
   "source": [
    "def clean_powierzchnia(df, min=20, max=200, dropna=False):\n",
    "    if dropna == True:\n",
    "        return df.filter((df[\"Powierzchnia calkowita\"] >= min) & \\\n",
    "                         (df[\"Powierzchnia calkowita\"] <= max))\n",
    "    elif dropna == False:\n",
    "        return df.filter(((df[\"Powierzchnia calkowita\"] >= min) & \\\n",
    "                         (df[\"Powierzchnia calkowita\"] <= max)) | \\\n",
    "                         df[\"Powierzchnia calkowita\"].isNull())"
   ]
  },
  {
   "cell_type": "code",
   "execution_count": 21,
   "metadata": {},
   "outputs": [
    {
     "data": {
      "application/vnd.jupyter.widget-view+json": {
       "model_id": "",
       "version_major": 2,
       "version_minor": 0
      },
      "text/plain": [
       "FloatProgress(value=0.0, bar_style='info', description='Progress:', layout=Layout(height='25px', width='50%'),…"
      ]
     },
     "metadata": {},
     "output_type": "display_data"
    }
   ],
   "source": [
    "def clean_rok_budowy(df, min=1900, max=2024, dropna=False):\n",
    "    if dropna == True:\n",
    "        return df.filter((df[\"Rok budowy\"] >= min) & \\\n",
    "                         (df[\"Rok budowy\"] <= max))\n",
    "    elif dropna == False:\n",
    "        return df.filter(((df[\"Rok budowy\"] >= min) & \\\n",
    "                         (df[\"Rok budowy\"] <= max)) | \\\n",
    "                         df[\"Rok budowy\"].isNull())"
   ]
  },
  {
   "cell_type": "markdown",
   "metadata": {},
   "source": [
    "##### Usunięcie outlierów"
   ]
  },
  {
   "cell_type": "code",
   "execution_count": 22,
   "metadata": {},
   "outputs": [
    {
     "data": {
      "application/vnd.jupyter.widget-view+json": {
       "model_id": "",
       "version_major": 2,
       "version_minor": 0
      },
      "text/plain": [
       "FloatProgress(value=0.0, bar_style='info', description='Progress:', layout=Layout(height='25px', width='50%'),…"
      ]
     },
     "metadata": {},
     "output_type": "display_data"
    }
   ],
   "source": [
    "df = clean_cena(df, dropna=True)\n",
    "df = clean_cena_za_m2(df, dropna=True)\n",
    "df = clean_lat_lon(df)\n",
    "df = clean_pietra(df)\n",
    "df = clean_pokoje(df)\n",
    "df = clean_powierzchnia(df)\n",
    "df = clean_rok_budowy(df)"
   ]
  },
  {
   "cell_type": "markdown",
   "metadata": {},
   "source": [
    "# Przegląd danych"
   ]
  },
  {
   "cell_type": "code",
   "execution_count": 23,
   "metadata": {},
   "outputs": [
    {
     "data": {
      "application/vnd.jupyter.widget-view+json": {
       "model_id": "",
       "version_major": 2,
       "version_minor": 0
      },
      "text/plain": [
       "FloatProgress(value=0.0, bar_style='info', description='Progress:', layout=Layout(height='25px', width='50%'),…"
      ]
     },
     "metadata": {},
     "output_type": "display_data"
    },
    {
     "name": "stdout",
     "output_type": "stream",
     "text": [
      "-RECORD 0-------------------------------------\n",
      " Cena                    | 603000.0           \n",
      " Cena za m2              | 10220.338983050848 \n",
      " Szerokosc geograficzna  | 54.36143405        \n",
      " Dlugosc geograficzna    | 18.62821847557274  \n",
      " Kod pocztowy            | 80-208             \n",
      " Miejscowosc             | Gdańsk             \n",
      " Wojewodztwo             | pomorskie          \n",
      " Powierzchnia calkowita  | 59.0               \n",
      " Liczba pokoi            | 3.0                \n",
      " Pietro                  | 1.0                \n",
      " Liczba pieter w budynku | 3.0                \n",
      " Rok budowy              | 2012.0             \n",
      " Material                | ytong              \n",
      " Typ budynku             | blok               \n",
      "-RECORD 1-------------------------------------\n",
      " Cena                    | 1030514.0          \n",
      " Cena za m2              | 14991.475589543888 \n",
      " Szerokosc geograficzna  | 54.4126118         \n",
      " Dlugosc geograficzna    | 18.6026846         \n",
      " Kod pocztowy            | 80-365             \n",
      " Miejscowosc             | Gdańsk             \n",
      " Wojewodztwo             | pomorskie          \n",
      " Powierzchnia calkowita  | 68.74              \n",
      " Liczba pokoi            | 3.0                \n",
      " Pietro                  | 6.0                \n",
      " Liczba pieter w budynku | 12.0               \n",
      " Rok budowy              | 2021.0             \n",
      " Material                | inny               \n",
      " Typ budynku             | inny               \n",
      "only showing top 2 rows"
     ]
    }
   ],
   "source": [
    "df.show(2, vertical=True)"
   ]
  },
  {
   "cell_type": "code",
   "execution_count": 24,
   "metadata": {},
   "outputs": [
    {
     "data": {
      "application/vnd.jupyter.widget-view+json": {
       "model_id": "",
       "version_major": 2,
       "version_minor": 0
      },
      "text/plain": [
       "FloatProgress(value=0.0, bar_style='info', description='Progress:', layout=Layout(height='25px', width='50%'),…"
      ]
     },
     "metadata": {},
     "output_type": "display_data"
    },
    {
     "name": "stdout",
     "output_type": "stream",
     "text": [
      "root\n",
      " |-- Cena: float (nullable = true)\n",
      " |-- Cena za m2: double (nullable = true)\n",
      " |-- Szerokosc geograficzna: double (nullable = true)\n",
      " |-- Dlugosc geograficzna: double (nullable = true)\n",
      " |-- Kod pocztowy: string (nullable = true)\n",
      " |-- Miejscowosc: string (nullable = true)\n",
      " |-- Wojewodztwo: string (nullable = true)\n",
      " |-- Powierzchnia calkowita: float (nullable = true)\n",
      " |-- Liczba pokoi: float (nullable = true)\n",
      " |-- Pietro: float (nullable = true)\n",
      " |-- Liczba pieter w budynku: float (nullable = true)\n",
      " |-- Rok budowy: float (nullable = true)\n",
      " |-- Material: string (nullable = true)\n",
      " |-- Typ budynku: string (nullable = true)"
     ]
    }
   ],
   "source": [
    "df.printSchema()"
   ]
  },
  {
   "cell_type": "code",
   "execution_count": 25,
   "metadata": {},
   "outputs": [
    {
     "data": {
      "application/vnd.jupyter.widget-view+json": {
       "model_id": "",
       "version_major": 2,
       "version_minor": 0
      },
      "text/plain": [
       "FloatProgress(value=0.0, bar_style='info', description='Progress:', layout=Layout(height='25px', width='50%'),…"
      ]
     },
     "metadata": {},
     "output_type": "display_data"
    },
    {
     "name": "stdout",
     "output_type": "stream",
     "text": [
      "98882"
     ]
    }
   ],
   "source": [
    "df.count()"
   ]
  },
  {
   "cell_type": "code",
   "execution_count": 26,
   "metadata": {},
   "outputs": [
    {
     "data": {
      "application/vnd.jupyter.widget-view+json": {
       "model_id": "",
       "version_major": 2,
       "version_minor": 0
      },
      "text/plain": [
       "FloatProgress(value=0.0, bar_style='info', description='Progress:', layout=Layout(height='25px', width='50%'),…"
      ]
     },
     "metadata": {},
     "output_type": "display_data"
    },
    {
     "name": "stdout",
     "output_type": "stream",
     "text": [
      "DataFrame[Cena: float, Cena za m2: double, Szerokosc geograficzna: double, Dlugosc geograficzna: double, Kod pocztowy: string, Miejscowosc: string, Wojewodztwo: string, Powierzchnia calkowita: float, Liczba pokoi: float, Pietro: float, Liczba pieter w budynku: float, Rok budowy: float, Material: string, Typ budynku: string]"
     ]
    }
   ],
   "source": [
    "df.cache()"
   ]
  },
  {
   "cell_type": "markdown",
   "metadata": {},
   "source": [
    "# ML"
   ]
  },
  {
   "cell_type": "markdown",
   "metadata": {},
   "source": [
    "### Podział na train, test"
   ]
  },
  {
   "cell_type": "code",
   "execution_count": 27,
   "metadata": {},
   "outputs": [
    {
     "data": {
      "application/vnd.jupyter.widget-view+json": {
       "model_id": "",
       "version_major": 2,
       "version_minor": 0
      },
      "text/plain": [
       "FloatProgress(value=0.0, bar_style='info', description='Progress:', layout=Layout(height='25px', width='50%'),…"
      ]
     },
     "metadata": {},
     "output_type": "display_data"
    },
    {
     "name": "stdout",
     "output_type": "stream",
     "text": [
      "DataFrame[Cena: float, Cena za m2: double, Szerokosc geograficzna: double, Dlugosc geograficzna: double, Kod pocztowy: string, Miejscowosc: string, Wojewodztwo: string, Powierzchnia calkowita: float, Liczba pokoi: int, Pietro: int, Liczba pieter w budynku: int, Rok budowy: int, Material: string, Typ budynku: string]"
     ]
    }
   ],
   "source": [
    "train, test = df.randomSplit([0.8, 0.2], seed=10)\n",
    "train.cache()\n",
    "test.cache()"
   ]
  },
  {
   "cell_type": "code",
   "execution_count": 28,
   "metadata": {},
   "outputs": [
    {
     "data": {
      "application/vnd.jupyter.widget-view+json": {
       "model_id": "",
       "version_major": 2,
       "version_minor": 0
      },
      "text/plain": [
       "FloatProgress(value=0.0, bar_style='info', description='Progress:', layout=Layout(height='25px', width='50%'),…"
      ]
     },
     "metadata": {},
     "output_type": "display_data"
    },
    {
     "name": "stdout",
     "output_type": "stream",
     "text": [
      "Zbi?r train: 79235 rekord?w\n",
      "Zbi?r test: 19647 rekord?w"
     ]
    }
   ],
   "source": [
    "print(f\"Zbiór train: {train.count()} rekordów\")\n",
    "print(f\"Zbiór test: {test.count()} rekordów\")"
   ]
  },
  {
   "cell_type": "markdown",
   "metadata": {},
   "source": [
    "### Przygotowanie train, test do modelu ML"
   ]
  },
  {
   "cell_type": "code",
   "execution_count": 28,
   "metadata": {},
   "outputs": [
    {
     "data": {
      "application/vnd.jupyter.widget-view+json": {
       "model_id": "",
       "version_major": 2,
       "version_minor": 0
      },
      "text/plain": [
       "FloatProgress(value=0.0, bar_style='info', description='Progress:', layout=Layout(height='25px', width='50%'),…"
      ]
     },
     "metadata": {},
     "output_type": "display_data"
    }
   ],
   "source": [
    "model_cols = [\"Cena za m2\", \"Kod pocztowy\", \"Powierzchnia calkowita\", \"Typ budynku\", \"Material\"]\n",
    "\n",
    "train = train.select(model_cols) #.withColumn(\"Kod pocztowy\", df[\"Kod pocztowy\"].substr(0,5))\n",
    "test = test.select(model_cols) #.withColumn(\"Kod pocztowy\", df[\"Kod pocztowy\"].substr(0,5))"
   ]
  },
  {
   "cell_type": "code",
   "execution_count": 29,
   "metadata": {},
   "outputs": [
    {
     "data": {
      "application/vnd.jupyter.widget-view+json": {
       "model_id": "",
       "version_major": 2,
       "version_minor": 0
      },
      "text/plain": [
       "FloatProgress(value=0.0, bar_style='info', description='Progress:', layout=Layout(height='25px', width='50%'),…"
      ]
     },
     "metadata": {},
     "output_type": "display_data"
    },
    {
     "name": "stdout",
     "output_type": "stream",
     "text": [
      "Zmienne numeryczne: ['Powierzchnia calkowita']\n",
      "Zmienne kategoryczne: ['Kod pocztowy', 'Typ budynku', 'Material']"
     ]
    }
   ],
   "source": [
    "catCols = [x for (x, dataType) in train.dtypes if dataType == 'string']\n",
    "numCols = [x for (x, dataType) in train.dtypes if ((dataType != 'string') & (x != \"Cena za m2\"))]\n",
    "print(f\"Zmienne numeryczne: {numCols}\")\n",
    "print(f\"Zmienne kategoryczne: {catCols}\")"
   ]
  },
  {
   "cell_type": "code",
   "execution_count": 30,
   "metadata": {},
   "outputs": [
    {
     "data": {
      "application/vnd.jupyter.widget-view+json": {
       "model_id": "",
       "version_major": 2,
       "version_minor": 0
      },
      "text/plain": [
       "FloatProgress(value=0.0, bar_style='info', description='Progress:', layout=Layout(height='25px', width='50%'),…"
      ]
     },
     "metadata": {},
     "output_type": "display_data"
    }
   ],
   "source": [
    "train = train.fillna(\"other\", subset=catCols)\n",
    "test = test.fillna(\"other\", subset=catCols)"
   ]
  },
  {
   "cell_type": "markdown",
   "metadata": {},
   "source": [
    "### string indexer + one hot encoder + vector assembler + (standard scaler)"
   ]
  },
  {
   "cell_type": "code",
   "execution_count": 31,
   "metadata": {},
   "outputs": [
    {
     "data": {
      "application/vnd.jupyter.widget-view+json": {
       "model_id": "",
       "version_major": 2,
       "version_minor": 0
      },
      "text/plain": [
       "FloatProgress(value=0.0, bar_style='info', description='Progress:', layout=Layout(height='25px', width='50%'),…"
      ]
     },
     "metadata": {},
     "output_type": "display_data"
    }
   ],
   "source": [
    "from pyspark.ml.feature import Imputer, OneHotEncoderEstimator, StringIndexer, VectorAssembler, StandardScaler\n",
    "\n",
    "imputer = Imputer(inputCols=numCols, outputCols=numCols)\n",
    "\n",
    "string_indexer = [\n",
    "    StringIndexer(inputCol=x, outputCol=x + \"_StringIndexer\", handleInvalid='skip')\n",
    "    for x in catCols\n",
    "]\n",
    "\n",
    "one_hot_encoder = [\n",
    "    OneHotEncoderEstimator(\n",
    "        inputCols=[f\"{x}_StringIndexer\" for x in catCols],\n",
    "        outputCols=[f\"{x}_OneHotEncoder\" for x in catCols],\n",
    "    )\n",
    "]\n",
    "\n",
    "assemblerInput = [x for x in numCols]\n",
    "assemblerInput += [f\"{x}_OneHotEncoder\" for x in catCols]\n",
    "\n",
    "vector_assembler = VectorAssembler(\n",
    "    inputCols=assemblerInput, outputCol=\"features_2\"\n",
    ")\n",
    "\n",
    "scaler = StandardScaler(inputCol=\"features_2\", outputCol=\"features\",\n",
    "                        withStd=True, withMean=False)"
   ]
  },
  {
   "cell_type": "markdown",
   "metadata": {},
   "source": [
    "### pipeline"
   ]
  },
  {
   "cell_type": "code",
   "execution_count": 32,
   "metadata": {},
   "outputs": [
    {
     "data": {
      "application/vnd.jupyter.widget-view+json": {
       "model_id": "",
       "version_major": 2,
       "version_minor": 0
      },
      "text/plain": [
       "FloatProgress(value=0.0, bar_style='info', description='Progress:', layout=Layout(height='25px', width='50%'),…"
      ]
     },
     "metadata": {},
     "output_type": "display_data"
    }
   ],
   "source": [
    "stages = []\n",
    "stages += [imputer]\n",
    "stages += string_indexer\n",
    "stages += one_hot_encoder\n",
    "stages += [vector_assembler]\n",
    "stages += [scaler]\n",
    "\n",
    "pipeline = Pipeline(stages=stages)\n",
    "\n",
    "model = pipeline.fit(train)"
   ]
  },
  {
   "cell_type": "code",
   "execution_count": 33,
   "metadata": {},
   "outputs": [
    {
     "data": {
      "application/vnd.jupyter.widget-view+json": {
       "model_id": "",
       "version_major": 2,
       "version_minor": 0
      },
      "text/plain": [
       "FloatProgress(value=0.0, bar_style='info', description='Progress:', layout=Layout(height='25px', width='50%'),…"
      ]
     },
     "metadata": {},
     "output_type": "display_data"
    }
   ],
   "source": [
    "df_train = model.transform(train).select(\"Cena za m2\", \"features\")\n",
    "df_test = model.transform(test).select(\"Cena za m2\", \"features\")"
   ]
  },
  {
   "cell_type": "markdown",
   "metadata": {},
   "source": [
    "### Linear Regression"
   ]
  },
  {
   "cell_type": "code",
   "execution_count": 44,
   "metadata": {},
   "outputs": [
    {
     "data": {
      "application/vnd.jupyter.widget-view+json": {
       "model_id": "",
       "version_major": 2,
       "version_minor": 0
      },
      "text/plain": [
       "FloatProgress(value=0.0, bar_style='info', description='Progress:', layout=Layout(height='25px', width='50%'),…"
      ]
     },
     "metadata": {},
     "output_type": "display_data"
    }
   ],
   "source": [
    "from pyspark.ml.regression import LinearRegression\n",
    "\n",
    "model = LinearRegression(featuresCol='features', labelCol='Cena za m2', maxIter=10)"
   ]
  },
  {
   "cell_type": "code",
   "execution_count": 45,
   "metadata": {},
   "outputs": [
    {
     "data": {
      "application/vnd.jupyter.widget-view+json": {
       "model_id": "",
       "version_major": 2,
       "version_minor": 0
      },
      "text/plain": [
       "FloatProgress(value=0.0, bar_style='info', description='Progress:', layout=Layout(height='25px', width='50%'),…"
      ]
     },
     "metadata": {},
     "output_type": "display_data"
    }
   ],
   "source": [
    "paramGrid = ParamGridBuilder()\\\n",
    "    .addGrid(model.regParam, [0.3, 0.1, 0.01])\\\n",
    "    .addGrid(model.fitIntercept, [False, True])\\\n",
    "    .addGrid(model.elasticNetParam, [0.0, 0.5, 1.0])\\\n",
    "    .build()\n",
    "\n",
    "crossval = CrossValidator(estimator=model,\n",
    "                          estimatorParamMaps=paramGrid,\n",
    "                          evaluator=RegressionEvaluator(predictionCol=\"prediction\", labelCol=\"Cena za m2\",metricName=\"rmse\"),\n",
    "                          numFolds=5)\n",
    "\n",
    "# Run cross-validation, and choose the best set of parameters.\n",
    "cvModel = crossval.fit(df_train)"
   ]
  },
  {
   "cell_type": "code",
   "execution_count": 47,
   "metadata": {},
   "outputs": [
    {
     "data": {
      "application/vnd.jupyter.widget-view+json": {
       "model_id": "",
       "version_major": 2,
       "version_minor": 0
      },
      "text/plain": [
       "FloatProgress(value=0.0, bar_style='info', description='Progress:', layout=Layout(height='25px', width='50%'),…"
      ]
     },
     "metadata": {},
     "output_type": "display_data"
    },
    {
     "name": "stdout",
     "output_type": "stream",
     "text": [
      "RMSE train: 2149.8048223770375"
     ]
    }
   ],
   "source": [
    "cv_predictions = cvModel.transform(df_train)\n",
    "cv_evaluator = RegressionEvaluator(predictionCol=\"prediction\", \\\n",
    "                                   labelCol=\"Cena za m2\",metricName=\"rmse\")\n",
    "print(f\"RMSE train: {cv_evaluator.evaluate(cv_predictions)}\")"
   ]
  },
  {
   "cell_type": "code",
   "execution_count": 48,
   "metadata": {
    "scrolled": false
   },
   "outputs": [
    {
     "data": {
      "application/vnd.jupyter.widget-view+json": {
       "model_id": "",
       "version_major": 2,
       "version_minor": 0
      },
      "text/plain": [
       "FloatProgress(value=0.0, bar_style='info', description='Progress:', layout=Layout(height='25px', width='50%'),…"
      ]
     },
     "metadata": {},
     "output_type": "display_data"
    },
    {
     "name": "stdout",
     "output_type": "stream",
     "text": [
      "+------------------+------------------+--------------------+\n",
      "|        prediction|        Cena za m2|            features|\n",
      "+------------------+------------------+--------------------+\n",
      "| 5002.378270466019|1979.1666666666667|(5743,[0,693,5730...|\n",
      "|6434.2785311776925|2930.4030122974386|(5743,[0,4271,572...|\n",
      "|3140.5424096144716|           3281.25|(5743,[0,190,5729...|\n",
      "| 4468.345442077481|3888.8888888888887|(5743,[0,344,5733...|\n",
      "| 7230.338496187889|            8500.0|(5743,[0,98,5733,...|\n",
      "| 5910.191834199165| 4566.596268161447|(5743,[0,32,5729,...|\n",
      "|  9358.46106437909|7499.9999241610885|(5743,[0,1,5729,5...|\n",
      "| 6517.536829576571| 6069.214684692424|(5743,[0,205,5729...|\n",
      "| 6697.684508174843|            6300.0|(5743,[0,255,5731...|\n",
      "| 5329.275021577563| 4705.882352941177|(5743,[0,169,5729...|\n",
      "+------------------+------------------+--------------------+\n",
      "only showing top 10 rows\n",
      "\n",
      "RMSE test: 2245.7927752506034"
     ]
    }
   ],
   "source": [
    "cv_predictions = cvModel.transform(df_test)\n",
    "cv_predictions.select(\"prediction\",\"Cena za m2\",\"features\").show(10)\n",
    "\n",
    "from pyspark.ml.evaluation import RegressionEvaluator\n",
    "cv_evaluator = RegressionEvaluator(predictionCol=\"prediction\", \\\n",
    "                                   labelCol=\"Cena za m2\",metricName=\"rmse\")\n",
    "print(f\"RMSE test: {cv_evaluator.evaluate(cv_predictions)}\")"
   ]
  },
  {
   "cell_type": "code",
   "execution_count": 50,
   "metadata": {},
   "outputs": [
    {
     "data": {
      "application/vnd.jupyter.widget-view+json": {
       "model_id": "",
       "version_major": 2,
       "version_minor": 0
      },
      "text/plain": [
       "FloatProgress(value=0.0, bar_style='info', description='Progress:', layout=Layout(height='25px', width='50%'),…"
      ]
     },
     "metadata": {},
     "output_type": "display_data"
    }
   ],
   "source": [
    "bestModel = cvModel.bestModel"
   ]
  },
  {
   "cell_type": "code",
   "execution_count": 56,
   "metadata": {},
   "outputs": [
    {
     "data": {
      "application/vnd.jupyter.widget-view+json": {
       "model_id": "",
       "version_major": 2,
       "version_minor": 0
      },
      "text/plain": [
       "FloatProgress(value=0.0, bar_style='info', description='Progress:', layout=Layout(height='25px', width='50%'),…"
      ]
     },
     "metadata": {},
     "output_type": "display_data"
    },
    {
     "name": "stdout",
     "output_type": "stream",
     "text": [
      "Best model\n",
      "regParam 0.3\n",
      "fitIntercept True\n",
      "elasticNetParam 1.0"
     ]
    }
   ],
   "source": [
    "print(\"Best model\")\n",
    "print(f\"regParam {bestModel._java_obj.getRegParam()}\")\n",
    "print(f\"fitIntercept {bestModel._java_obj.getFitIntercept()}\")\n",
    "print(f\"elasticNetParam {bestModel._java_obj.getElasticNetParam()}\")"
   ]
  },
  {
   "cell_type": "markdown",
   "metadata": {},
   "source": [
    "### Decission Tree"
   ]
  },
  {
   "cell_type": "code",
   "execution_count": 58,
   "metadata": {},
   "outputs": [
    {
     "data": {
      "application/vnd.jupyter.widget-view+json": {
       "model_id": "",
       "version_major": 2,
       "version_minor": 0
      },
      "text/plain": [
       "FloatProgress(value=0.0, bar_style='info', description='Progress:', layout=Layout(height='25px', width='50%'),…"
      ]
     },
     "metadata": {},
     "output_type": "display_data"
    }
   ],
   "source": [
    "from pyspark.ml.regression import DecisionTreeRegressor\n",
    "\n",
    "model = DecisionTreeRegressor(featuresCol='features', labelCol='Cena za m2')"
   ]
  },
  {
   "cell_type": "code",
   "execution_count": 60,
   "metadata": {},
   "outputs": [
    {
     "data": {
      "application/vnd.jupyter.widget-view+json": {
       "model_id": "",
       "version_major": 2,
       "version_minor": 0
      },
      "text/plain": [
       "FloatProgress(value=0.0, bar_style='info', description='Progress:', layout=Layout(height='25px', width='50%'),…"
      ]
     },
     "metadata": {},
     "output_type": "display_data"
    }
   ],
   "source": [
    "paramGrid = ParamGridBuilder()\\\n",
    "    .addGrid(model.maxDepth, [5, 10, 20])\\\n",
    "    .build()\n",
    "\n",
    "crossval = CrossValidator(estimator=model,\n",
    "                          estimatorParamMaps=paramGrid,\n",
    "                          evaluator=RegressionEvaluator(predictionCol=\"prediction\", labelCol=\"Cena za m2\",metricName=\"rmse\"),\n",
    "                          numFolds=5)\n",
    "\n",
    "# Run cross-validation, and choose the best set of parameters.\n",
    "cvModel = crossval.fit(df_train)"
   ]
  },
  {
   "cell_type": "code",
   "execution_count": 61,
   "metadata": {},
   "outputs": [
    {
     "data": {
      "application/vnd.jupyter.widget-view+json": {
       "model_id": "",
       "version_major": 2,
       "version_minor": 0
      },
      "text/plain": [
       "FloatProgress(value=0.0, bar_style='info', description='Progress:', layout=Layout(height='25px', width='50%'),…"
      ]
     },
     "metadata": {},
     "output_type": "display_data"
    },
    {
     "name": "stdout",
     "output_type": "stream",
     "text": [
      "RMSE train: 3450.48132731164"
     ]
    }
   ],
   "source": [
    "cv_predictions = cvModel.transform(df_train)\n",
    "cv_evaluator = RegressionEvaluator(predictionCol=\"prediction\", \\\n",
    "                                   labelCol=\"Cena za m2\",metricName=\"rmse\")\n",
    "print(f\"RMSE train: {cv_evaluator.evaluate(cv_predictions)}\")"
   ]
  },
  {
   "cell_type": "code",
   "execution_count": 62,
   "metadata": {
    "scrolled": false
   },
   "outputs": [
    {
     "data": {
      "application/vnd.jupyter.widget-view+json": {
       "model_id": "",
       "version_major": 2,
       "version_minor": 0
      },
      "text/plain": [
       "FloatProgress(value=0.0, bar_style='info', description='Progress:', layout=Layout(height='25px', width='50%'),…"
      ]
     },
     "metadata": {},
     "output_type": "display_data"
    },
    {
     "name": "stdout",
     "output_type": "stream",
     "text": [
      "+------------------+------------------+--------------------+\n",
      "|        prediction|        Cena za m2|            features|\n",
      "+------------------+------------------+--------------------+\n",
      "| 8421.293365308975|1979.1666666666667|(5743,[0,693,5730...|\n",
      "| 7042.564309245756|2930.4030122974386|(5743,[0,4271,572...|\n",
      "| 8160.175528268287|           3281.25|(5743,[0,190,5729...|\n",
      "| 8421.293365308975|3888.8888888888887|(5743,[0,344,5733...|\n",
      "|10555.953775136624|            8500.0|(5743,[0,98,5733,...|\n",
      "| 8063.340709585578| 4566.596268161447|(5743,[0,32,5729,...|\n",
      "|11261.780788566393|7499.9999241610885|(5743,[0,1,5729,5...|\n",
      "| 7998.067112745754| 6069.214684692424|(5743,[0,205,5729...|\n",
      "|10605.672486384115|            6300.0|(5743,[0,255,5731...|\n",
      "| 8160.175528268287| 4705.882352941177|(5743,[0,169,5729...|\n",
      "+------------------+------------------+--------------------+\n",
      "only showing top 10 rows\n",
      "\n",
      "RMSE test: 3511.8742302274304"
     ]
    }
   ],
   "source": [
    "cv_predictions = cvModel.transform(df_test)\n",
    "cv_predictions.select(\"prediction\",\"Cena za m2\",\"features\").show(10)\n",
    "\n",
    "from pyspark.ml.evaluation import RegressionEvaluator\n",
    "cv_evaluator = RegressionEvaluator(predictionCol=\"prediction\", \\\n",
    "                                   labelCol=\"Cena za m2\",metricName=\"rmse\")\n",
    "print(f\"RMSE test: {cv_evaluator.evaluate(cv_predictions)}\")"
   ]
  },
  {
   "cell_type": "code",
   "execution_count": 63,
   "metadata": {},
   "outputs": [
    {
     "data": {
      "application/vnd.jupyter.widget-view+json": {
       "model_id": "",
       "version_major": 2,
       "version_minor": 0
      },
      "text/plain": [
       "FloatProgress(value=0.0, bar_style='info', description='Progress:', layout=Layout(height='25px', width='50%'),…"
      ]
     },
     "metadata": {},
     "output_type": "display_data"
    }
   ],
   "source": [
    "bestModel = cvModel.bestModel"
   ]
  },
  {
   "cell_type": "code",
   "execution_count": 64,
   "metadata": {},
   "outputs": [
    {
     "data": {
      "application/vnd.jupyter.widget-view+json": {
       "model_id": "",
       "version_major": 2,
       "version_minor": 0
      },
      "text/plain": [
       "FloatProgress(value=0.0, bar_style='info', description='Progress:', layout=Layout(height='25px', width='50%'),…"
      ]
     },
     "metadata": {},
     "output_type": "display_data"
    },
    {
     "name": "stdout",
     "output_type": "stream",
     "text": [
      "Best model\n",
      "regParam 20"
     ]
    }
   ],
   "source": [
    "print(\"Best model\")\n",
    "print(f\"maxDepth {bestModel._java_obj.getMaxDepth()}\")"
   ]
  },
  {
   "cell_type": "markdown",
   "metadata": {},
   "source": [
    "### Random Forest"
   ]
  },
  {
   "cell_type": "code",
   "execution_count": 65,
   "metadata": {},
   "outputs": [
    {
     "data": {
      "application/vnd.jupyter.widget-view+json": {
       "model_id": "",
       "version_major": 2,
       "version_minor": 0
      },
      "text/plain": [
       "FloatProgress(value=0.0, bar_style='info', description='Progress:', layout=Layout(height='25px', width='50%'),…"
      ]
     },
     "metadata": {},
     "output_type": "display_data"
    }
   ],
   "source": [
    "from pyspark.ml.regression import RandomForestRegressor\n",
    "\n",
    "model = RandomForestRegressor(featuresCol='features', labelCol='Cena za m2')"
   ]
  },
  {
   "cell_type": "code",
   "execution_count": 67,
   "metadata": {},
   "outputs": [
    {
     "data": {
      "application/vnd.jupyter.widget-view+json": {
       "model_id": "ca0579fbba47419aa8b6713c39e48419",
       "version_major": 2,
       "version_minor": 0
      },
      "text/plain": [
       "FloatProgress(value=0.0, bar_style='info', description='Progress:', layout=Layout(height='25px', width='50%'),…"
      ]
     },
     "metadata": {},
     "output_type": "display_data"
    },
    {
     "name": "stderr",
     "output_type": "stream",
     "text": [
      "An error was encountered:\n",
      "Invalid status code '400' from http://ip-172-31-5-10.ec2.internal:8998/sessions/0/statements/67 with error payload: {\"msg\":\"requirement failed: Session isn't active.\"}\n"
     ]
    }
   ],
   "source": [
    "paramGrid = ParamGridBuilder()\\\n",
    "    .addGrid(model.maxDepth, [20, 30])\\\n",
    "    .build()\n",
    "\n",
    "crossval = CrossValidator(estimator=model,\n",
    "                          estimatorParamMaps=paramGrid,\n",
    "                          evaluator=RegressionEvaluator(predictionCol=\"prediction\", labelCol=\"Cena za m2\",metricName=\"rmse\"),\n",
    "                          numFolds=5)\n",
    "\n",
    "# Run cross-validation, and choose the best set of parameters.\n",
    "cvModel = crossval.fit(df_train)"
   ]
  },
  {
   "cell_type": "code",
   "execution_count": 61,
   "metadata": {},
   "outputs": [
    {
     "data": {
      "application/vnd.jupyter.widget-view+json": {
       "model_id": "",
       "version_major": 2,
       "version_minor": 0
      },
      "text/plain": [
       "FloatProgress(value=0.0, bar_style='info', description='Progress:', layout=Layout(height='25px', width='50%'),…"
      ]
     },
     "metadata": {},
     "output_type": "display_data"
    },
    {
     "name": "stdout",
     "output_type": "stream",
     "text": [
      "RMSE train: 3450.48132731164"
     ]
    }
   ],
   "source": [
    "cv_predictions = cvModel.transform(df_train)\n",
    "cv_evaluator = RegressionEvaluator(predictionCol=\"prediction\", \\\n",
    "                                   labelCol=\"Cena za m2\",metricName=\"rmse\")\n",
    "print(f\"RMSE train: {cv_evaluator.evaluate(cv_predictions)}\")"
   ]
  },
  {
   "cell_type": "code",
   "execution_count": 62,
   "metadata": {
    "scrolled": false
   },
   "outputs": [
    {
     "data": {
      "application/vnd.jupyter.widget-view+json": {
       "model_id": "",
       "version_major": 2,
       "version_minor": 0
      },
      "text/plain": [
       "FloatProgress(value=0.0, bar_style='info', description='Progress:', layout=Layout(height='25px', width='50%'),…"
      ]
     },
     "metadata": {},
     "output_type": "display_data"
    },
    {
     "name": "stdout",
     "output_type": "stream",
     "text": [
      "+------------------+------------------+--------------------+\n",
      "|        prediction|        Cena za m2|            features|\n",
      "+------------------+------------------+--------------------+\n",
      "| 8421.293365308975|1979.1666666666667|(5743,[0,693,5730...|\n",
      "| 7042.564309245756|2930.4030122974386|(5743,[0,4271,572...|\n",
      "| 8160.175528268287|           3281.25|(5743,[0,190,5729...|\n",
      "| 8421.293365308975|3888.8888888888887|(5743,[0,344,5733...|\n",
      "|10555.953775136624|            8500.0|(5743,[0,98,5733,...|\n",
      "| 8063.340709585578| 4566.596268161447|(5743,[0,32,5729,...|\n",
      "|11261.780788566393|7499.9999241610885|(5743,[0,1,5729,5...|\n",
      "| 7998.067112745754| 6069.214684692424|(5743,[0,205,5729...|\n",
      "|10605.672486384115|            6300.0|(5743,[0,255,5731...|\n",
      "| 8160.175528268287| 4705.882352941177|(5743,[0,169,5729...|\n",
      "+------------------+------------------+--------------------+\n",
      "only showing top 10 rows\n",
      "\n",
      "RMSE test: 3511.8742302274304"
     ]
    }
   ],
   "source": [
    "cv_predictions = cvModel.transform(df_test)\n",
    "cv_predictions.select(\"prediction\",\"Cena za m2\",\"features\").show(10)\n",
    "\n",
    "from pyspark.ml.evaluation import RegressionEvaluator\n",
    "cv_evaluator = RegressionEvaluator(predictionCol=\"prediction\", \\\n",
    "                                   labelCol=\"Cena za m2\",metricName=\"rmse\")\n",
    "print(f\"RMSE test: {cv_evaluator.evaluate(cv_predictions)}\")"
   ]
  },
  {
   "cell_type": "code",
   "execution_count": 63,
   "metadata": {},
   "outputs": [
    {
     "data": {
      "application/vnd.jupyter.widget-view+json": {
       "model_id": "",
       "version_major": 2,
       "version_minor": 0
      },
      "text/plain": [
       "FloatProgress(value=0.0, bar_style='info', description='Progress:', layout=Layout(height='25px', width='50%'),…"
      ]
     },
     "metadata": {},
     "output_type": "display_data"
    }
   ],
   "source": [
    "bestModel = cvModel.bestModel"
   ]
  },
  {
   "cell_type": "code",
   "execution_count": 64,
   "metadata": {},
   "outputs": [
    {
     "data": {
      "application/vnd.jupyter.widget-view+json": {
       "model_id": "",
       "version_major": 2,
       "version_minor": 0
      },
      "text/plain": [
       "FloatProgress(value=0.0, bar_style='info', description='Progress:', layout=Layout(height='25px', width='50%'),…"
      ]
     },
     "metadata": {},
     "output_type": "display_data"
    },
    {
     "name": "stdout",
     "output_type": "stream",
     "text": [
      "Best model\n",
      "regParam 20"
     ]
    }
   ],
   "source": [
    "print(\"Best model\")\n",
    "print(f\"maxDepth {bestModel._java_obj.getMaxDepth()}\")"
   ]
  },
  {
   "cell_type": "markdown",
   "metadata": {},
   "source": [
    "# ML - więcej zmiennych"
   ]
  },
  {
   "cell_type": "markdown",
   "metadata": {},
   "source": [
    "### Podział na train, test"
   ]
  },
  {
   "cell_type": "code",
   "execution_count": 41,
   "metadata": {},
   "outputs": [
    {
     "data": {
      "application/vnd.jupyter.widget-view+json": {
       "model_id": "",
       "version_major": 2,
       "version_minor": 0
      },
      "text/plain": [
       "FloatProgress(value=0.0, bar_style='info', description='Progress:', layout=Layout(height='25px', width='50%'),…"
      ]
     },
     "metadata": {},
     "output_type": "display_data"
    },
    {
     "name": "stdout",
     "output_type": "stream",
     "text": [
      "DataFrame[Cena: float, Cena za m2: double, Szerokosc geograficzna: double, Dlugosc geograficzna: double, Kod pocztowy: string, Miejscowosc: string, Wojewodztwo: string, Powierzchnia calkowita: float, Liczba pokoi: float, Pietro: float, Liczba pieter w budynku: float, Rok budowy: float, Material: string, Typ budynku: string]"
     ]
    }
   ],
   "source": [
    "train, test = df.randomSplit([0.8, 0.2], seed=10)\n",
    "train.cache()\n",
    "test.cache()"
   ]
  },
  {
   "cell_type": "code",
   "execution_count": 42,
   "metadata": {},
   "outputs": [
    {
     "data": {
      "application/vnd.jupyter.widget-view+json": {
       "model_id": "",
       "version_major": 2,
       "version_minor": 0
      },
      "text/plain": [
       "FloatProgress(value=0.0, bar_style='info', description='Progress:', layout=Layout(height='25px', width='50%'),…"
      ]
     },
     "metadata": {},
     "output_type": "display_data"
    },
    {
     "name": "stdout",
     "output_type": "stream",
     "text": [
      "Zbi?r train: 79235 rekord?w\n",
      "Zbi?r test: 19647 rekord?w"
     ]
    }
   ],
   "source": [
    "print(f\"Zbiór train: {train.count()} rekordów\")\n",
    "print(f\"Zbiór test: {test.count()} rekordów\")"
   ]
  },
  {
   "cell_type": "markdown",
   "metadata": {},
   "source": [
    "### Przygotowanie train, test do modelu ML"
   ]
  },
  {
   "cell_type": "code",
   "execution_count": 43,
   "metadata": {},
   "outputs": [
    {
     "data": {
      "application/vnd.jupyter.widget-view+json": {
       "model_id": "",
       "version_major": 2,
       "version_minor": 0
      },
      "text/plain": [
       "FloatProgress(value=0.0, bar_style='info', description='Progress:', layout=Layout(height='25px', width='50%'),…"
      ]
     },
     "metadata": {},
     "output_type": "display_data"
    },
    {
     "name": "stdout",
     "output_type": "stream",
     "text": [
      "DataFrame[Cena za m2: double, Kod pocztowy: string, Powierzchnia calkowita: float, Typ budynku: string, Material: string, Pietro: float, Rok budowy: float, Rodzaj rynku: string]"
     ]
    }
   ],
   "source": [
    "model_cols = [\"Cena za m2\", \"Kod pocztowy\", \"Powierzchnia calkowita\", \"Typ budynku\", \"Material\", \"Pietro\", \"Rok budowy\"]\n",
    "\n",
    "train = train.select(model_cols) #.withColumn(\"Kod pocztowy\", df[\"Kod pocztowy\"].substr(0,5))\n",
    "test = test.select(model_cols) #.withColumn(\"Kod pocztowy\", df[\"Kod pocztowy\"].substr(0,5))\n",
    "train.withColumn(\"Rodzaj rynku\", f.when(train[\"Rok budowy\"] >= 2021, \"pierwotny\").when(train[\"Rok budowy\"] < 2021, \"wtórny\"))\n",
    "test.withColumn(\"Rodzaj rynku\", f.when(test[\"Rok budowy\"] >= 2021, \"pierwotny\").when(test[\"Rok budowy\"] < 2021, \"wtórny\"))"
   ]
  },
  {
   "cell_type": "code",
   "execution_count": 44,
   "metadata": {},
   "outputs": [
    {
     "data": {
      "application/vnd.jupyter.widget-view+json": {
       "model_id": "",
       "version_major": 2,
       "version_minor": 0
      },
      "text/plain": [
       "FloatProgress(value=0.0, bar_style='info', description='Progress:', layout=Layout(height='25px', width='50%'),…"
      ]
     },
     "metadata": {},
     "output_type": "display_data"
    },
    {
     "name": "stdout",
     "output_type": "stream",
     "text": [
      "Zmienne numeryczne: ['Powierzchnia calkowita', 'Pietro', 'Rok budowy']\n",
      "Zmienne kategoryczne: ['Kod pocztowy', 'Typ budynku', 'Material']"
     ]
    }
   ],
   "source": [
    "catCols = [x for (x, dataType) in train.dtypes if dataType == 'string']\n",
    "numCols = [x for (x, dataType) in train.dtypes if ((dataType != 'string') & (x != \"Cena za m2\"))]\n",
    "print(f\"Zmienne numeryczne: {numCols}\")\n",
    "print(f\"Zmienne kategoryczne: {catCols}\")"
   ]
  },
  {
   "cell_type": "code",
   "execution_count": 45,
   "metadata": {},
   "outputs": [
    {
     "data": {
      "application/vnd.jupyter.widget-view+json": {
       "model_id": "",
       "version_major": 2,
       "version_minor": 0
      },
      "text/plain": [
       "FloatProgress(value=0.0, bar_style='info', description='Progress:', layout=Layout(height='25px', width='50%'),…"
      ]
     },
     "metadata": {},
     "output_type": "display_data"
    }
   ],
   "source": [
    "train = train.fillna(\"other\", subset=catCols)\n",
    "test = test.fillna(\"other\", subset=catCols)"
   ]
  },
  {
   "cell_type": "markdown",
   "metadata": {},
   "source": [
    "### string indexer + one hot encoder + vector assembler + (standard scaler)"
   ]
  },
  {
   "cell_type": "code",
   "execution_count": 32,
   "metadata": {},
   "outputs": [
    {
     "data": {
      "application/vnd.jupyter.widget-view+json": {
       "model_id": "",
       "version_major": 2,
       "version_minor": 0
      },
      "text/plain": [
       "FloatProgress(value=0.0, bar_style='info', description='Progress:', layout=Layout(height='25px', width='50%'),…"
      ]
     },
     "metadata": {},
     "output_type": "display_data"
    }
   ],
   "source": [
    "from pyspark.ml.feature import Imputer, OneHotEncoderEstimator, StringIndexer, VectorAssembler, StandardScaler\n",
    "\n",
    "imputer = Imputer(inputCols=numCols, outputCols=numCols)\n",
    "\n",
    "string_indexer = [\n",
    "    StringIndexer(inputCol=x, outputCol=x + \"_StringIndexer\", handleInvalid='skip')\n",
    "    for x in catCols\n",
    "]\n",
    "\n",
    "one_hot_encoder = [\n",
    "    OneHotEncoderEstimator(\n",
    "        inputCols=[f\"{x}_StringIndexer\" for x in catCols],\n",
    "        outputCols=[f\"{x}_OneHotEncoder\" for x in catCols],\n",
    "    )\n",
    "]\n",
    "\n",
    "assemblerInput = [x for x in numCols]\n",
    "assemblerInput += [f\"{x}_OneHotEncoder\" for x in catCols]\n",
    "\n",
    "vector_assembler = VectorAssembler(\n",
    "    inputCols=assemblerInput, outputCol=\"features_2\"\n",
    ")\n",
    "\n",
    "scaler = StandardScaler(inputCol=\"features_2\", outputCol=\"features\",\n",
    "                        withStd=True, withMean=False)"
   ]
  },
  {
   "cell_type": "markdown",
   "metadata": {},
   "source": [
    "### pipeline"
   ]
  },
  {
   "cell_type": "code",
   "execution_count": 33,
   "metadata": {},
   "outputs": [
    {
     "data": {
      "application/vnd.jupyter.widget-view+json": {
       "model_id": "",
       "version_major": 2,
       "version_minor": 0
      },
      "text/plain": [
       "FloatProgress(value=0.0, bar_style='info', description='Progress:', layout=Layout(height='25px', width='50%'),…"
      ]
     },
     "metadata": {},
     "output_type": "display_data"
    }
   ],
   "source": [
    "stages = []\n",
    "stages += [imputer]\n",
    "stages += string_indexer\n",
    "stages += one_hot_encoder\n",
    "stages += [vector_assembler]\n",
    "stages += [scaler]\n",
    "\n",
    "pipeline = Pipeline(stages=stages)\n",
    "\n",
    "model = pipeline.fit(train)"
   ]
  },
  {
   "cell_type": "code",
   "execution_count": 34,
   "metadata": {},
   "outputs": [
    {
     "data": {
      "application/vnd.jupyter.widget-view+json": {
       "model_id": "",
       "version_major": 2,
       "version_minor": 0
      },
      "text/plain": [
       "FloatProgress(value=0.0, bar_style='info', description='Progress:', layout=Layout(height='25px', width='50%'),…"
      ]
     },
     "metadata": {},
     "output_type": "display_data"
    }
   ],
   "source": [
    "df_train = model.transform(train).select(\"Cena za m2\", \"features\")\n",
    "df_test = model.transform(test).select(\"Cena za m2\", \"features\")"
   ]
  },
  {
   "cell_type": "markdown",
   "metadata": {},
   "source": [
    "### Linear Regression"
   ]
  },
  {
   "cell_type": "code",
   "execution_count": 35,
   "metadata": {},
   "outputs": [
    {
     "data": {
      "application/vnd.jupyter.widget-view+json": {
       "model_id": "",
       "version_major": 2,
       "version_minor": 0
      },
      "text/plain": [
       "FloatProgress(value=0.0, bar_style='info', description='Progress:', layout=Layout(height='25px', width='50%'),…"
      ]
     },
     "metadata": {},
     "output_type": "display_data"
    }
   ],
   "source": [
    "from pyspark.ml.regression import LinearRegression\n",
    "\n",
    "model = LinearRegression(featuresCol='features', labelCol='Cena za m2', maxIter=10)"
   ]
  },
  {
   "cell_type": "code",
   "execution_count": 36,
   "metadata": {},
   "outputs": [
    {
     "data": {
      "application/vnd.jupyter.widget-view+json": {
       "model_id": "",
       "version_major": 2,
       "version_minor": 0
      },
      "text/plain": [
       "FloatProgress(value=0.0, bar_style='info', description='Progress:', layout=Layout(height='25px', width='50%'),…"
      ]
     },
     "metadata": {},
     "output_type": "display_data"
    }
   ],
   "source": [
    "paramGrid = ParamGridBuilder()\\\n",
    "    .addGrid(model.regParam, [0.3, 0.1, 0.01])\\\n",
    "    .addGrid(model.fitIntercept, [False, True])\\\n",
    "    .addGrid(model.elasticNetParam, [0.0, 0.5, 1.0])\\\n",
    "    .build()\n",
    "\n",
    "crossval = CrossValidator(estimator=model,\n",
    "                          estimatorParamMaps=paramGrid,\n",
    "                          evaluator=RegressionEvaluator(predictionCol=\"prediction\", labelCol=\"Cena za m2\",metricName=\"rmse\"),\n",
    "                          numFolds=5)\n",
    "\n",
    "# Run cross-validation, and choose the best set of parameters.\n",
    "cvModel = crossval.fit(df_train)"
   ]
  },
  {
   "cell_type": "code",
   "execution_count": 37,
   "metadata": {},
   "outputs": [
    {
     "data": {
      "application/vnd.jupyter.widget-view+json": {
       "model_id": "",
       "version_major": 2,
       "version_minor": 0
      },
      "text/plain": [
       "FloatProgress(value=0.0, bar_style='info', description='Progress:', layout=Layout(height='25px', width='50%'),…"
      ]
     },
     "metadata": {},
     "output_type": "display_data"
    },
    {
     "name": "stdout",
     "output_type": "stream",
     "text": [
      "RMSE train: 2096.4147530414775"
     ]
    }
   ],
   "source": [
    "cv_predictions = cvModel.transform(df_train)\n",
    "cv_evaluator = RegressionEvaluator(predictionCol=\"prediction\", \\\n",
    "                                   labelCol=\"Cena za m2\",metricName=\"rmse\")\n",
    "print(f\"RMSE train: {cv_evaluator.evaluate(cv_predictions)}\")"
   ]
  },
  {
   "cell_type": "code",
   "execution_count": 38,
   "metadata": {
    "scrolled": false
   },
   "outputs": [
    {
     "data": {
      "application/vnd.jupyter.widget-view+json": {
       "model_id": "",
       "version_major": 2,
       "version_minor": 0
      },
      "text/plain": [
       "FloatProgress(value=0.0, bar_style='info', description='Progress:', layout=Layout(height='25px', width='50%'),…"
      ]
     },
     "metadata": {},
     "output_type": "display_data"
    },
    {
     "name": "stdout",
     "output_type": "stream",
     "text": [
      "+------------------+------------------+--------------------+\n",
      "|        prediction|        Cena za m2|            features|\n",
      "+------------------+------------------+--------------------+\n",
      "| 4745.639992149652|1979.1666666666667|(5745,[0,2,695,57...|\n",
      "| 6229.360997547465|2930.4030122974386|(5745,[0,1,2,4273...|\n",
      "|3326.2855800165016|           3281.25|(5745,[0,1,2,192,...|\n",
      "| 4677.668847167013|3888.8888888888887|(5745,[0,2,346,57...|\n",
      "| 7469.236051934611|            8500.0|(5745,[0,1,2,100,...|\n",
      "| 5717.739260349899| 4566.596268161447|(5745,[0,2,34,573...|\n",
      "|  9539.33082446238|7499.9999241610885|(5745,[0,1,2,3,57...|\n",
      "| 6355.495680811393| 6069.214684692424|(5745,[0,1,2,207,...|\n",
      "| 6501.068690035423|            6300.0|(5745,[0,2,257,57...|\n",
      "|6539.1141355688305| 4705.882352941177|(5745,[0,1,2,171,...|\n",
      "+------------------+------------------+--------------------+\n",
      "only showing top 10 rows\n",
      "\n",
      "RMSE test: 2197.8735715557727"
     ]
    }
   ],
   "source": [
    "cv_predictions = cvModel.transform(df_test)\n",
    "cv_predictions.select(\"prediction\",\"Cena za m2\",\"features\").show(10)\n",
    "\n",
    "from pyspark.ml.evaluation import RegressionEvaluator\n",
    "cv_evaluator = RegressionEvaluator(predictionCol=\"prediction\", \\\n",
    "                                   labelCol=\"Cena za m2\",metricName=\"rmse\")\n",
    "print(f\"RMSE test: {cv_evaluator.evaluate(cv_predictions)}\")"
   ]
  },
  {
   "cell_type": "code",
   "execution_count": 39,
   "metadata": {},
   "outputs": [
    {
     "data": {
      "application/vnd.jupyter.widget-view+json": {
       "model_id": "",
       "version_major": 2,
       "version_minor": 0
      },
      "text/plain": [
       "FloatProgress(value=0.0, bar_style='info', description='Progress:', layout=Layout(height='25px', width='50%'),…"
      ]
     },
     "metadata": {},
     "output_type": "display_data"
    }
   ],
   "source": [
    "bestModel = cvModel.bestModel"
   ]
  },
  {
   "cell_type": "code",
   "execution_count": 40,
   "metadata": {},
   "outputs": [
    {
     "data": {
      "application/vnd.jupyter.widget-view+json": {
       "model_id": "",
       "version_major": 2,
       "version_minor": 0
      },
      "text/plain": [
       "FloatProgress(value=0.0, bar_style='info', description='Progress:', layout=Layout(height='25px', width='50%'),…"
      ]
     },
     "metadata": {},
     "output_type": "display_data"
    },
    {
     "name": "stdout",
     "output_type": "stream",
     "text": [
      "Best model\n",
      "regParam 0.3\n",
      "fitIntercept True\n",
      "elasticNetParam 1.0"
     ]
    }
   ],
   "source": [
    "print(\"Best model\")\n",
    "print(f\"regParam {bestModel._java_obj.getRegParam()}\")\n",
    "print(f\"fitIntercept {bestModel._java_obj.getFitIntercept()}\")\n",
    "print(f\"elasticNetParam {bestModel._java_obj.getElasticNetParam()}\")"
   ]
  },
  {
   "cell_type": "markdown",
   "metadata": {},
   "source": [
    "### Isotonic"
   ]
  },
  {
   "cell_type": "code",
   "execution_count": 49,
   "metadata": {},
   "outputs": [
    {
     "data": {
      "application/vnd.jupyter.widget-view+json": {
       "model_id": "",
       "version_major": 2,
       "version_minor": 0
      },
      "text/plain": [
       "FloatProgress(value=0.0, bar_style='info', description='Progress:', layout=Layout(height='25px', width='50%'),…"
      ]
     },
     "metadata": {},
     "output_type": "display_data"
    }
   ],
   "source": [
    "from pyspark.ml.regression import IsotonicRegression\n",
    "\n",
    "model = IsotonicRegression(featuresCol='features', labelCol='Cena za m2')"
   ]
  },
  {
   "cell_type": "code",
   "execution_count": 50,
   "metadata": {},
   "outputs": [
    {
     "data": {
      "application/vnd.jupyter.widget-view+json": {
       "model_id": "",
       "version_major": 2,
       "version_minor": 0
      },
      "text/plain": [
       "FloatProgress(value=0.0, bar_style='info', description='Progress:', layout=Layout(height='25px', width='50%'),…"
      ]
     },
     "metadata": {},
     "output_type": "display_data"
    }
   ],
   "source": [
    "paramGrid = ParamGridBuilder()\\\n",
    "    .addGrid(model.isotonic, [False, True])\\\n",
    "    .build()\n",
    "\n",
    "crossval = CrossValidator(estimator=model,\n",
    "                          estimatorParamMaps=paramGrid,\n",
    "                          evaluator=RegressionEvaluator(predictionCol=\"prediction\", labelCol=\"Cena za m2\",metricName=\"rmse\"),\n",
    "                          numFolds=5)\n",
    "\n",
    "# Run cross-validation, and choose the best set of parameters.\n",
    "cvModel = crossval.fit(df_train)"
   ]
  },
  {
   "cell_type": "code",
   "execution_count": 51,
   "metadata": {},
   "outputs": [
    {
     "data": {
      "application/vnd.jupyter.widget-view+json": {
       "model_id": "",
       "version_major": 2,
       "version_minor": 0
      },
      "text/plain": [
       "FloatProgress(value=0.0, bar_style='info', description='Progress:', layout=Layout(height='25px', width='50%'),…"
      ]
     },
     "metadata": {},
     "output_type": "display_data"
    },
    {
     "name": "stdout",
     "output_type": "stream",
     "text": [
      "RMSE train: 4076.5444049434195"
     ]
    }
   ],
   "source": [
    "cv_predictions = cvModel.transform(df_train)\n",
    "cv_evaluator = RegressionEvaluator(predictionCol=\"prediction\", \\\n",
    "                                   labelCol=\"Cena za m2\",metricName=\"rmse\")\n",
    "print(f\"RMSE train: {cv_evaluator.evaluate(cv_predictions)}\")"
   ]
  },
  {
   "cell_type": "code",
   "execution_count": 52,
   "metadata": {
    "scrolled": false
   },
   "outputs": [
    {
     "data": {
      "application/vnd.jupyter.widget-view+json": {
       "model_id": "",
       "version_major": 2,
       "version_minor": 0
      },
      "text/plain": [
       "FloatProgress(value=0.0, bar_style='info', description='Progress:', layout=Layout(height='25px', width='50%'),…"
      ]
     },
     "metadata": {},
     "output_type": "display_data"
    },
    {
     "name": "stdout",
     "output_type": "stream",
     "text": [
      "+------------------+------------------+--------------------+\n",
      "|        prediction|        Cena za m2|            features|\n",
      "+------------------+------------------+--------------------+\n",
      "|            8937.5|1979.1666666666667|(5745,[0,2,695,57...|\n",
      "|  8907.27458586514|2930.4030122974386|(5745,[0,1,2,4273...|\n",
      "|  8907.27458586514|           3281.25|(5745,[0,1,2,192,...|\n",
      "|  8907.27458586514|3888.8888888888887|(5745,[0,2,346,57...|\n",
      "|11532.903882027633|            8500.0|(5745,[0,1,2,100,...|\n",
      "| 8942.579081486536| 4566.596268161447|(5745,[0,2,34,573...|\n",
      "|11449.437519889743|7499.9999241610885|(5745,[0,1,2,3,57...|\n",
      "| 9693.329470711857| 6069.214684692424|(5745,[0,1,2,207,...|\n",
      "| 9693.329470711857|            6300.0|(5745,[0,2,257,57...|\n",
      "|  8907.27458586514| 4705.882352941177|(5745,[0,1,2,171,...|\n",
      "+------------------+------------------+--------------------+\n",
      "only showing top 10 rows\n",
      "\n",
      "RMSE test: 4032.7570912569904"
     ]
    }
   ],
   "source": [
    "cv_predictions = cvModel.transform(df_test)\n",
    "cv_predictions.select(\"prediction\",\"Cena za m2\",\"features\").show(10)\n",
    "\n",
    "from pyspark.ml.evaluation import RegressionEvaluator\n",
    "cv_evaluator = RegressionEvaluator(predictionCol=\"prediction\", \\\n",
    "                                   labelCol=\"Cena za m2\",metricName=\"rmse\")\n",
    "print(f\"RMSE test: {cv_evaluator.evaluate(cv_predictions)}\")"
   ]
  },
  {
   "cell_type": "code",
   "execution_count": 53,
   "metadata": {},
   "outputs": [
    {
     "data": {
      "application/vnd.jupyter.widget-view+json": {
       "model_id": "",
       "version_major": 2,
       "version_minor": 0
      },
      "text/plain": [
       "FloatProgress(value=0.0, bar_style='info', description='Progress:', layout=Layout(height='25px', width='50%'),…"
      ]
     },
     "metadata": {},
     "output_type": "display_data"
    }
   ],
   "source": [
    "bestModel = cvModel.bestModel"
   ]
  },
  {
   "cell_type": "code",
   "execution_count": 55,
   "metadata": {},
   "outputs": [
    {
     "data": {
      "application/vnd.jupyter.widget-view+json": {
       "model_id": "",
       "version_major": 2,
       "version_minor": 0
      },
      "text/plain": [
       "FloatProgress(value=0.0, bar_style='info', description='Progress:', layout=Layout(height='25px', width='50%'),…"
      ]
     },
     "metadata": {},
     "output_type": "display_data"
    },
    {
     "name": "stdout",
     "output_type": "stream",
     "text": [
      "Best model\n",
      "isotonic False"
     ]
    }
   ],
   "source": [
    "print(\"Best model\")\n",
    "print(f\"isotonic {bestModel._java_obj.getIsotonic()}\")"
   ]
  },
  {
   "cell_type": "markdown",
   "metadata": {},
   "source": [
    "# Zapis najlepszego modelu"
   ]
  },
  {
   "cell_type": "code",
   "execution_count": null,
   "metadata": {},
   "outputs": [],
   "source": [
    "bestModel = cvModel.bestModel"
   ]
  },
  {
   "cell_type": "code",
   "execution_count": null,
   "metadata": {},
   "outputs": [],
   "source": [
    "bestModel.save(\"s3://mieszkania2-pl/lrModel\")"
   ]
  },
  {
   "cell_type": "code",
   "execution_count": null,
   "metadata": {},
   "outputs": [],
   "source": [
    "from pyspark.ml.regression import LinearRegressionModel"
   ]
  },
  {
   "cell_type": "code",
   "execution_count": null,
   "metadata": {},
   "outputs": [],
   "source": [
    "lrModel = LinearRegressionModel.load(\"s3://mieszkania2-pl/lrModel\")"
   ]
  },
  {
   "cell_type": "code",
   "execution_count": null,
   "metadata": {},
   "outputs": [],
   "source": [
    "lr_predictions = lrModel.transform(df_test)\n",
    "lr_predictions.select(\"prediction\",\"Cena za m2\",\"features\").show(10)\n",
    "\n",
    "lr_evaluator = RegressionEvaluator(predictionCol=\"prediction\", \\\n",
    "                                   labelCol=\"Cena za m2\",metricName=\"rmse\")\n",
    "print(f\"RMSE test: {lr_evaluator.evaluate(lr_predictions)}\")"
   ]
  }
 ],
 "metadata": {
  "kernelspec": {
   "display_name": "Python 3",
   "language": "python",
   "name": "python3"
  },
  "language_info": {
   "codemirror_mode": {
    "name": "ipython",
    "version": 3
   },
   "file_extension": ".py",
   "mimetype": "text/x-python",
   "name": "python",
   "nbconvert_exporter": "python",
   "pygments_lexer": "ipython3",
   "version": "3.7.6"
  },
  "varInspector": {
   "cols": {
    "lenName": 16,
    "lenType": 16,
    "lenVar": 40
   },
   "kernels_config": {
    "python": {
     "delete_cmd_postfix": "",
     "delete_cmd_prefix": "del ",
     "library": "var_list.py",
     "varRefreshCmd": "print(var_dic_list())"
    },
    "r": {
     "delete_cmd_postfix": ") ",
     "delete_cmd_prefix": "rm(",
     "library": "var_list.r",
     "varRefreshCmd": "cat(var_dic_list()) "
    }
   },
   "types_to_exclude": [
    "module",
    "function",
    "builtin_function_or_method",
    "instance",
    "_Feature"
   ],
   "window_display": false
  }
 },
 "nbformat": 4,
 "nbformat_minor": 4
}
